{
 "cells": [
  {
   "cell_type": "code",
   "execution_count": 108,
   "metadata": {
    "_cell_guid": "b1076dfc-b9ad-4769-8c92-a6c4dae69d19",
    "_uuid": "8f2839f25d086af736a60e9eeb907d3b93b6e0e5"
   },
   "outputs": [
    {
     "name": "stdout",
     "output_type": "stream",
     "text": [
      "/kaggle/input/rottentomatoes/rotten_tomatoes_movies.csv\n",
      "/kaggle/input/rottentomatoes/rotten_tomatoes_critic_reviews.csv\n"
     ]
    }
   ],
   "source": [
    "# This Python 3 environment comes with many helpful analytics libraries installed\n",
    "# It is defined by the kaggle/python Docker image: https://github.com/kaggle/docker-python\n",
    "# For example, here's several helpful packages to load\n",
    "\n",
    "import numpy as np # linear algebra\n",
    "import pandas as pd # data processing, CSV file I/O (e.g. pd.read_csv)\n",
    "\n",
    "# Input data files are available in the read-only \"../input/\" directory\n",
    "# For example, running this (by clicking run or pressing Shift+Enter) will list all files under the input directory\n",
    "\n",
    "import os\n",
    "for dirname, _, filenames in os.walk('/kaggle/input'):\n",
    "    for filename in filenames:\n",
    "        print(os.path.join(dirname, filename))\n",
    "\n",
    "# You can write up to 20GB to the current directory (/kaggle/working/) that gets preserved as output when you create a version using \"Save & Run All\" \n",
    "# You can also write temporary files to /kaggle/temp/, but they won't be saved outside of the current session"
   ]
  },
  {
   "cell_type": "code",
   "execution_count": 109,
   "metadata": {
    "_cell_guid": "79c7e3d0-c299-4dcb-8224-4455121ee9b0",
    "_uuid": "d629ff2d2480ee46fbb7e2d37f6b5fab8052498a"
   },
   "outputs": [],
   "source": [
    "# Importing the Datasets\n",
    "\n",
    "import pandas as pd\n",
    "Movies = pd.read_csv(\"/kaggle/input/rottentomatoes/rotten_tomatoes_movies.csv\")\n",
    "Reviews = pd.read_csv(\"/kaggle/input/rottentomatoes/rotten_tomatoes_critic_reviews.csv\")"
   ]
  },
  {
   "cell_type": "code",
   "execution_count": 110,
   "metadata": {},
   "outputs": [
    {
     "data": {
      "text/plain": [
       "['rotten_tomatoes_link',\n",
       " 'critic_name',\n",
       " 'top_critic',\n",
       " 'publisher_name',\n",
       " 'review_type',\n",
       " 'review_score',\n",
       " 'review_date',\n",
       " 'review_content']"
      ]
     },
     "execution_count": 110,
     "metadata": {},
     "output_type": "execute_result"
    }
   ],
   "source": [
    "list(Reviews.columns)"
   ]
  },
  {
   "cell_type": "code",
   "execution_count": 111,
   "metadata": {},
   "outputs": [
    {
     "data": {
      "text/html": [
       "<div>\n",
       "<style scoped>\n",
       "    .dataframe tbody tr th:only-of-type {\n",
       "        vertical-align: middle;\n",
       "    }\n",
       "\n",
       "    .dataframe tbody tr th {\n",
       "        vertical-align: top;\n",
       "    }\n",
       "\n",
       "    .dataframe thead th {\n",
       "        text-align: right;\n",
       "    }\n",
       "</style>\n",
       "<table border=\"1\" class=\"dataframe\">\n",
       "  <thead>\n",
       "    <tr style=\"text-align: right;\">\n",
       "      <th></th>\n",
       "      <th>rotten_tomatoes_link</th>\n",
       "      <th>movie_title</th>\n",
       "      <th>movie_info</th>\n",
       "      <th>critics_consensus</th>\n",
       "      <th>content_rating</th>\n",
       "      <th>genres</th>\n",
       "      <th>directors</th>\n",
       "      <th>authors</th>\n",
       "      <th>actors</th>\n",
       "      <th>original_release_date</th>\n",
       "      <th>...</th>\n",
       "      <th>production_company</th>\n",
       "      <th>tomatometer_status</th>\n",
       "      <th>tomatometer_rating</th>\n",
       "      <th>tomatometer_count</th>\n",
       "      <th>audience_status</th>\n",
       "      <th>audience_rating</th>\n",
       "      <th>audience_count</th>\n",
       "      <th>tomatometer_top_critics_count</th>\n",
       "      <th>tomatometer_fresh_critics_count</th>\n",
       "      <th>tomatometer_rotten_critics_count</th>\n",
       "    </tr>\n",
       "  </thead>\n",
       "  <tbody>\n",
       "    <tr>\n",
       "      <th>0</th>\n",
       "      <td>m/0814255</td>\n",
       "      <td>Percy Jackson &amp; the Olympians: The Lightning T...</td>\n",
       "      <td>Always trouble-prone, the life of teenager Per...</td>\n",
       "      <td>Though it may seem like just another Harry Pot...</td>\n",
       "      <td>PG</td>\n",
       "      <td>Action &amp; Adventure, Comedy, Drama, Science Fic...</td>\n",
       "      <td>Chris Columbus</td>\n",
       "      <td>Craig Titley, Chris Columbus, Rick Riordan</td>\n",
       "      <td>Logan Lerman, Brandon T. Jackson, Alexandra Da...</td>\n",
       "      <td>2010-02-12</td>\n",
       "      <td>...</td>\n",
       "      <td>20th Century Fox</td>\n",
       "      <td>Rotten</td>\n",
       "      <td>49.0</td>\n",
       "      <td>149.0</td>\n",
       "      <td>Spilled</td>\n",
       "      <td>53.0</td>\n",
       "      <td>254421.0</td>\n",
       "      <td>43</td>\n",
       "      <td>73</td>\n",
       "      <td>76</td>\n",
       "    </tr>\n",
       "    <tr>\n",
       "      <th>1</th>\n",
       "      <td>m/0878835</td>\n",
       "      <td>Please Give</td>\n",
       "      <td>Kate (Catherine Keener) and her husband Alex (...</td>\n",
       "      <td>Nicole Holofcener's newest might seem slight i...</td>\n",
       "      <td>R</td>\n",
       "      <td>Comedy</td>\n",
       "      <td>Nicole Holofcener</td>\n",
       "      <td>Nicole Holofcener</td>\n",
       "      <td>Catherine Keener, Amanda Peet, Oliver Platt, R...</td>\n",
       "      <td>2010-04-30</td>\n",
       "      <td>...</td>\n",
       "      <td>Sony Pictures Classics</td>\n",
       "      <td>Certified-Fresh</td>\n",
       "      <td>87.0</td>\n",
       "      <td>142.0</td>\n",
       "      <td>Upright</td>\n",
       "      <td>64.0</td>\n",
       "      <td>11574.0</td>\n",
       "      <td>44</td>\n",
       "      <td>123</td>\n",
       "      <td>19</td>\n",
       "    </tr>\n",
       "    <tr>\n",
       "      <th>2</th>\n",
       "      <td>m/10</td>\n",
       "      <td>10</td>\n",
       "      <td>A successful, middle-aged Hollywood songwriter...</td>\n",
       "      <td>Blake Edwards' bawdy comedy may not score a pe...</td>\n",
       "      <td>R</td>\n",
       "      <td>Comedy, Romance</td>\n",
       "      <td>Blake Edwards</td>\n",
       "      <td>Blake Edwards</td>\n",
       "      <td>Dudley Moore, Bo Derek, Julie Andrews, Robert ...</td>\n",
       "      <td>1979-10-05</td>\n",
       "      <td>...</td>\n",
       "      <td>Waner Bros.</td>\n",
       "      <td>Fresh</td>\n",
       "      <td>67.0</td>\n",
       "      <td>24.0</td>\n",
       "      <td>Spilled</td>\n",
       "      <td>53.0</td>\n",
       "      <td>14684.0</td>\n",
       "      <td>2</td>\n",
       "      <td>16</td>\n",
       "      <td>8</td>\n",
       "    </tr>\n",
       "    <tr>\n",
       "      <th>3</th>\n",
       "      <td>m/1000013-12_angry_men</td>\n",
       "      <td>12 Angry Men (Twelve Angry Men)</td>\n",
       "      <td>Following the closing arguments in a murder tr...</td>\n",
       "      <td>Sidney Lumet's feature debut is a superbly wri...</td>\n",
       "      <td>NR</td>\n",
       "      <td>Classics, Drama</td>\n",
       "      <td>Sidney Lumet</td>\n",
       "      <td>Reginald Rose</td>\n",
       "      <td>Martin Balsam, John Fiedler, Lee J. Cobb, E.G....</td>\n",
       "      <td>1957-04-13</td>\n",
       "      <td>...</td>\n",
       "      <td>Criterion Collection</td>\n",
       "      <td>Certified-Fresh</td>\n",
       "      <td>100.0</td>\n",
       "      <td>54.0</td>\n",
       "      <td>Upright</td>\n",
       "      <td>97.0</td>\n",
       "      <td>105386.0</td>\n",
       "      <td>6</td>\n",
       "      <td>54</td>\n",
       "      <td>0</td>\n",
       "    </tr>\n",
       "    <tr>\n",
       "      <th>4</th>\n",
       "      <td>m/1000079-20000_leagues_under_the_sea</td>\n",
       "      <td>20,000 Leagues Under The Sea</td>\n",
       "      <td>In 1866, Professor Pierre M. Aronnax (Paul Luk...</td>\n",
       "      <td>One of Disney's finest live-action adventures,...</td>\n",
       "      <td>G</td>\n",
       "      <td>Action &amp; Adventure, Drama, Kids &amp; Family</td>\n",
       "      <td>Richard Fleischer</td>\n",
       "      <td>Earl Felton</td>\n",
       "      <td>James Mason, Kirk Douglas, Paul Lukas, Peter L...</td>\n",
       "      <td>1954-01-01</td>\n",
       "      <td>...</td>\n",
       "      <td>Disney</td>\n",
       "      <td>Fresh</td>\n",
       "      <td>89.0</td>\n",
       "      <td>27.0</td>\n",
       "      <td>Upright</td>\n",
       "      <td>74.0</td>\n",
       "      <td>68918.0</td>\n",
       "      <td>5</td>\n",
       "      <td>24</td>\n",
       "      <td>3</td>\n",
       "    </tr>\n",
       "  </tbody>\n",
       "</table>\n",
       "<p>5 rows × 22 columns</p>\n",
       "</div>"
      ],
      "text/plain": [
       "                    rotten_tomatoes_link  \\\n",
       "0                              m/0814255   \n",
       "1                              m/0878835   \n",
       "2                                   m/10   \n",
       "3                 m/1000013-12_angry_men   \n",
       "4  m/1000079-20000_leagues_under_the_sea   \n",
       "\n",
       "                                         movie_title  \\\n",
       "0  Percy Jackson & the Olympians: The Lightning T...   \n",
       "1                                        Please Give   \n",
       "2                                                 10   \n",
       "3                    12 Angry Men (Twelve Angry Men)   \n",
       "4                       20,000 Leagues Under The Sea   \n",
       "\n",
       "                                          movie_info  \\\n",
       "0  Always trouble-prone, the life of teenager Per...   \n",
       "1  Kate (Catherine Keener) and her husband Alex (...   \n",
       "2  A successful, middle-aged Hollywood songwriter...   \n",
       "3  Following the closing arguments in a murder tr...   \n",
       "4  In 1866, Professor Pierre M. Aronnax (Paul Luk...   \n",
       "\n",
       "                                   critics_consensus content_rating  \\\n",
       "0  Though it may seem like just another Harry Pot...             PG   \n",
       "1  Nicole Holofcener's newest might seem slight i...              R   \n",
       "2  Blake Edwards' bawdy comedy may not score a pe...              R   \n",
       "3  Sidney Lumet's feature debut is a superbly wri...             NR   \n",
       "4  One of Disney's finest live-action adventures,...              G   \n",
       "\n",
       "                                              genres          directors  \\\n",
       "0  Action & Adventure, Comedy, Drama, Science Fic...     Chris Columbus   \n",
       "1                                             Comedy  Nicole Holofcener   \n",
       "2                                    Comedy, Romance      Blake Edwards   \n",
       "3                                    Classics, Drama       Sidney Lumet   \n",
       "4           Action & Adventure, Drama, Kids & Family  Richard Fleischer   \n",
       "\n",
       "                                      authors  \\\n",
       "0  Craig Titley, Chris Columbus, Rick Riordan   \n",
       "1                           Nicole Holofcener   \n",
       "2                               Blake Edwards   \n",
       "3                               Reginald Rose   \n",
       "4                                 Earl Felton   \n",
       "\n",
       "                                              actors original_release_date  \\\n",
       "0  Logan Lerman, Brandon T. Jackson, Alexandra Da...            2010-02-12   \n",
       "1  Catherine Keener, Amanda Peet, Oliver Platt, R...            2010-04-30   \n",
       "2  Dudley Moore, Bo Derek, Julie Andrews, Robert ...            1979-10-05   \n",
       "3  Martin Balsam, John Fiedler, Lee J. Cobb, E.G....            1957-04-13   \n",
       "4  James Mason, Kirk Douglas, Paul Lukas, Peter L...            1954-01-01   \n",
       "\n",
       "   ...      production_company  tomatometer_status tomatometer_rating  \\\n",
       "0  ...        20th Century Fox              Rotten               49.0   \n",
       "1  ...  Sony Pictures Classics     Certified-Fresh               87.0   \n",
       "2  ...             Waner Bros.               Fresh               67.0   \n",
       "3  ...    Criterion Collection     Certified-Fresh              100.0   \n",
       "4  ...                  Disney               Fresh               89.0   \n",
       "\n",
       "  tomatometer_count  audience_status  audience_rating audience_count  \\\n",
       "0             149.0          Spilled             53.0       254421.0   \n",
       "1             142.0          Upright             64.0        11574.0   \n",
       "2              24.0          Spilled             53.0        14684.0   \n",
       "3              54.0          Upright             97.0       105386.0   \n",
       "4              27.0          Upright             74.0        68918.0   \n",
       "\n",
       "   tomatometer_top_critics_count  tomatometer_fresh_critics_count  \\\n",
       "0                             43                               73   \n",
       "1                             44                              123   \n",
       "2                              2                               16   \n",
       "3                              6                               54   \n",
       "4                              5                               24   \n",
       "\n",
       "   tomatometer_rotten_critics_count  \n",
       "0                                76  \n",
       "1                                19  \n",
       "2                                 8  \n",
       "3                                 0  \n",
       "4                                 3  \n",
       "\n",
       "[5 rows x 22 columns]"
      ]
     },
     "execution_count": 111,
     "metadata": {},
     "output_type": "execute_result"
    }
   ],
   "source": [
    "Movies.head()"
   ]
  },
  {
   "cell_type": "code",
   "execution_count": 112,
   "metadata": {},
   "outputs": [
    {
     "data": {
      "text/html": [
       "<div>\n",
       "<style scoped>\n",
       "    .dataframe tbody tr th:only-of-type {\n",
       "        vertical-align: middle;\n",
       "    }\n",
       "\n",
       "    .dataframe tbody tr th {\n",
       "        vertical-align: top;\n",
       "    }\n",
       "\n",
       "    .dataframe thead th {\n",
       "        text-align: right;\n",
       "    }\n",
       "</style>\n",
       "<table border=\"1\" class=\"dataframe\">\n",
       "  <thead>\n",
       "    <tr style=\"text-align: right;\">\n",
       "      <th></th>\n",
       "      <th>rotten_tomatoes_link</th>\n",
       "      <th>critic_name</th>\n",
       "      <th>top_critic</th>\n",
       "      <th>publisher_name</th>\n",
       "      <th>review_type</th>\n",
       "      <th>review_score</th>\n",
       "      <th>review_date</th>\n",
       "      <th>review_content</th>\n",
       "    </tr>\n",
       "  </thead>\n",
       "  <tbody>\n",
       "    <tr>\n",
       "      <th>3</th>\n",
       "      <td>m/0814255</td>\n",
       "      <td>Ben McEachen</td>\n",
       "      <td>False</td>\n",
       "      <td>Sunday Mail (Australia)</td>\n",
       "      <td>Fresh</td>\n",
       "      <td>3.5/5</td>\n",
       "      <td>2010-02-09</td>\n",
       "      <td>Whether audiences will get behind The Lightnin...</td>\n",
       "    </tr>\n",
       "    <tr>\n",
       "      <th>153</th>\n",
       "      <td>m/0878835</td>\n",
       "      <td>Erik Childress</td>\n",
       "      <td>False</td>\n",
       "      <td>eFilmCritic.com</td>\n",
       "      <td>Fresh</td>\n",
       "      <td>3/4</td>\n",
       "      <td>2010-01-31</td>\n",
       "      <td>Holofcener always gives us more to chew on tha...</td>\n",
       "    </tr>\n",
       "    <tr>\n",
       "      <th>292</th>\n",
       "      <td>m/10</td>\n",
       "      <td>Scott Weinberg</td>\n",
       "      <td>False</td>\n",
       "      <td>eFilmCritic.com</td>\n",
       "      <td>Fresh</td>\n",
       "      <td>4/5</td>\n",
       "      <td>2002-07-25</td>\n",
       "      <td>Obvious but entertaining portrayal of midlife ...</td>\n",
       "    </tr>\n",
       "    <tr>\n",
       "      <th>316</th>\n",
       "      <td>m/1000013-12_angry_men</td>\n",
       "      <td>Steve Rhodes</td>\n",
       "      <td>False</td>\n",
       "      <td>Internet Reviews</td>\n",
       "      <td>Fresh</td>\n",
       "      <td>4/4</td>\n",
       "      <td>2000-01-01</td>\n",
       "      <td>In a time of bloated when special effects have...</td>\n",
       "    </tr>\n",
       "    <tr>\n",
       "      <th>369</th>\n",
       "      <td>m/1000079-20000_leagues_under_the_sea</td>\n",
       "      <td>Dragan Antulov</td>\n",
       "      <td>False</td>\n",
       "      <td>rec.arts.movies.reviews</td>\n",
       "      <td>Fresh</td>\n",
       "      <td>7/10</td>\n",
       "      <td>2000-01-01</td>\n",
       "      <td>[The] embodiment of Disney at his best -- fami...</td>\n",
       "    </tr>\n",
       "  </tbody>\n",
       "</table>\n",
       "</div>"
      ],
      "text/plain": [
       "                      rotten_tomatoes_link     critic_name  top_critic  \\\n",
       "3                                m/0814255    Ben McEachen       False   \n",
       "153                              m/0878835  Erik Childress       False   \n",
       "292                                   m/10  Scott Weinberg       False   \n",
       "316                 m/1000013-12_angry_men    Steve Rhodes       False   \n",
       "369  m/1000079-20000_leagues_under_the_sea  Dragan Antulov       False   \n",
       "\n",
       "              publisher_name review_type review_score review_date  \\\n",
       "3    Sunday Mail (Australia)       Fresh        3.5/5  2010-02-09   \n",
       "153          eFilmCritic.com       Fresh          3/4  2010-01-31   \n",
       "292          eFilmCritic.com       Fresh          4/5  2002-07-25   \n",
       "316         Internet Reviews       Fresh          4/4  2000-01-01   \n",
       "369  rec.arts.movies.reviews       Fresh         7/10  2000-01-01   \n",
       "\n",
       "                                        review_content  \n",
       "3    Whether audiences will get behind The Lightnin...  \n",
       "153  Holofcener always gives us more to chew on tha...  \n",
       "292  Obvious but entertaining portrayal of midlife ...  \n",
       "316  In a time of bloated when special effects have...  \n",
       "369  [The] embodiment of Disney at his best -- fami...  "
      ]
     },
     "execution_count": 112,
     "metadata": {},
     "output_type": "execute_result"
    }
   ],
   "source": [
    "import numpy as np\n",
    "\n",
    "# Dropping rows with NA values\n",
    "Reviews = Reviews.dropna()\n",
    "\n",
    "# Dropping Duplicates so that there is only one entry per Movie.\n",
    "Reviews = Reviews.drop_duplicates(subset=['rotten_tomatoes_link'], keep = \"first\")\n",
    "Reviews.head()"
   ]
  },
  {
   "cell_type": "code",
   "execution_count": 113,
   "metadata": {},
   "outputs": [
    {
     "data": {
      "text/html": [
       "<div>\n",
       "<style scoped>\n",
       "    .dataframe tbody tr th:only-of-type {\n",
       "        vertical-align: middle;\n",
       "    }\n",
       "\n",
       "    .dataframe tbody tr th {\n",
       "        vertical-align: top;\n",
       "    }\n",
       "\n",
       "    .dataframe thead th {\n",
       "        text-align: right;\n",
       "    }\n",
       "</style>\n",
       "<table border=\"1\" class=\"dataframe\">\n",
       "  <thead>\n",
       "    <tr style=\"text-align: right;\">\n",
       "      <th></th>\n",
       "      <th>rotten_tomatoes_link</th>\n",
       "      <th>movie_title</th>\n",
       "      <th>critics_consensus</th>\n",
       "      <th>review_score</th>\n",
       "      <th>review_content</th>\n",
       "    </tr>\n",
       "  </thead>\n",
       "  <tbody>\n",
       "    <tr>\n",
       "      <th>0</th>\n",
       "      <td>m/0814255</td>\n",
       "      <td>Percy Jackson &amp; the Olympians: The Lightning T...</td>\n",
       "      <td>Though it may seem like just another Harry Pot...</td>\n",
       "      <td>3.5/5</td>\n",
       "      <td>Whether audiences will get behind The Lightnin...</td>\n",
       "    </tr>\n",
       "    <tr>\n",
       "      <th>1</th>\n",
       "      <td>m/0878835</td>\n",
       "      <td>Please Give</td>\n",
       "      <td>Nicole Holofcener's newest might seem slight i...</td>\n",
       "      <td>3/4</td>\n",
       "      <td>Holofcener always gives us more to chew on tha...</td>\n",
       "    </tr>\n",
       "    <tr>\n",
       "      <th>2</th>\n",
       "      <td>m/10</td>\n",
       "      <td>10</td>\n",
       "      <td>Blake Edwards' bawdy comedy may not score a pe...</td>\n",
       "      <td>4/5</td>\n",
       "      <td>Obvious but entertaining portrayal of midlife ...</td>\n",
       "    </tr>\n",
       "    <tr>\n",
       "      <th>3</th>\n",
       "      <td>m/1000013-12_angry_men</td>\n",
       "      <td>12 Angry Men (Twelve Angry Men)</td>\n",
       "      <td>Sidney Lumet's feature debut is a superbly wri...</td>\n",
       "      <td>4/4</td>\n",
       "      <td>In a time of bloated when special effects have...</td>\n",
       "    </tr>\n",
       "    <tr>\n",
       "      <th>4</th>\n",
       "      <td>m/1000079-20000_leagues_under_the_sea</td>\n",
       "      <td>20,000 Leagues Under The Sea</td>\n",
       "      <td>One of Disney's finest live-action adventures,...</td>\n",
       "      <td>7/10</td>\n",
       "      <td>[The] embodiment of Disney at his best -- fami...</td>\n",
       "    </tr>\n",
       "  </tbody>\n",
       "</table>\n",
       "</div>"
      ],
      "text/plain": [
       "                    rotten_tomatoes_link  \\\n",
       "0                              m/0814255   \n",
       "1                              m/0878835   \n",
       "2                                   m/10   \n",
       "3                 m/1000013-12_angry_men   \n",
       "4  m/1000079-20000_leagues_under_the_sea   \n",
       "\n",
       "                                         movie_title  \\\n",
       "0  Percy Jackson & the Olympians: The Lightning T...   \n",
       "1                                        Please Give   \n",
       "2                                                 10   \n",
       "3                    12 Angry Men (Twelve Angry Men)   \n",
       "4                       20,000 Leagues Under The Sea   \n",
       "\n",
       "                                   critics_consensus review_score  \\\n",
       "0  Though it may seem like just another Harry Pot...        3.5/5   \n",
       "1  Nicole Holofcener's newest might seem slight i...          3/4   \n",
       "2  Blake Edwards' bawdy comedy may not score a pe...          4/5   \n",
       "3  Sidney Lumet's feature debut is a superbly wri...          4/4   \n",
       "4  One of Disney's finest live-action adventures,...         7/10   \n",
       "\n",
       "                                      review_content  \n",
       "0  Whether audiences will get behind The Lightnin...  \n",
       "1  Holofcener always gives us more to chew on tha...  \n",
       "2  Obvious but entertaining portrayal of midlife ...  \n",
       "3  In a time of bloated when special effects have...  \n",
       "4  [The] embodiment of Disney at his best -- fami...  "
      ]
     },
     "execution_count": 113,
     "metadata": {},
     "output_type": "execute_result"
    }
   ],
   "source": [
    "# Merging two Dataframes\n",
    "newDf = pd.merge(Movies, Reviews, on = \"rotten_tomatoes_link\", how = \"inner\") \n",
    "\n",
    "# Dropping columns which are not required\n",
    "newDf.drop(['movie_info','content_rating','genres','directors','authors','actors','original_release_date','tomatometer_top_critics_count','tomatometer_fresh_critics_count','tomatometer_rotten_critics_count','critic_name','top_critic','publisher_name','review_type','review_date','streaming_release_date','runtime','production_company','tomatometer_status','tomatometer_rating','tomatometer_count','audience_status','audience_rating','audience_count'],axis=1,inplace=True)\n",
    "newDf.head()"
   ]
  },
  {
   "cell_type": "code",
   "execution_count": 114,
   "metadata": {},
   "outputs": [
    {
     "data": {
      "text/plain": [
       "array(['1', '10', '100', '20', '3', '4', '5', '6', '7', '8', '9', 'A',\n",
       "       'A-', 'B', 'B+', 'B-', 'C', 'C+', 'C-', 'D', 'D+', 'D-', 'F'],\n",
       "      dtype='<U3')"
      ]
     },
     "execution_count": 114,
     "metadata": {},
     "output_type": "execute_result"
    }
   ],
   "source": [
    "# Fetching unique rating scale to generalize the rating\n",
    "ratingList = np.unique(newDf.review_score).tolist()\n",
    "max_score = []\n",
    "for r in range(len(ratingList)):\n",
    "    temp = ratingList[r].split(\"/\")\n",
    "    if len(temp) > 1:\n",
    "        max_score.append(temp[1])\n",
    "    elif len(temp) == 1:\n",
    "        max_score.append(temp)\n",
    "    else:\n",
    "        pass\n",
    "    \n",
    "max_score = [i for b in map(lambda x:[x] if not isinstance(x, list) else x, max_score) for i in b]\n",
    "uniq_score = np.unique(max_score)\n",
    "uniq_score"
   ]
  },
  {
   "cell_type": "code",
   "execution_count": 115,
   "metadata": {},
   "outputs": [],
   "source": [
    "# Generalizing the all the review ratings to standard scale of 5 being highest and 0 being least.\n",
    "rating = newDf.review_score.tolist()\n",
    "genrat = []\n",
    "for r in range(len(rating)):\n",
    "    temp = rating[r].split(\"/\")\n",
    "    #print(len(temp))\n",
    "    if len(temp) > 1:\n",
    "        if temp[1] == '10':\n",
    "            score = round(float(temp[0]) / 2)\n",
    "            genrat.append(score)\n",
    "        elif temp[1] == '100':\n",
    "            score = round(float(temp[0]) / 20)\n",
    "            genrat.append(score)\n",
    "        elif temp[1] == '20':\n",
    "            score = round(float(temp[0]) / 4)\n",
    "            genrat.append(score)\n",
    "        elif temp[1] == '3':\n",
    "            score = round(float(temp[0]) * 5 / 3)\n",
    "            genrat.append(score)\n",
    "        elif temp[1] == '4':\n",
    "            score = round(float(temp[0]) * 5 / 4)\n",
    "            genrat.append(score)\n",
    "        elif temp[1] == '5':\n",
    "            score = round(float(temp[0]))\n",
    "            genrat.append(score)\n",
    "        elif temp[1] == '6':\n",
    "            score = round(float(temp[0]) * 5 / 6)\n",
    "            genrat.append(score)\n",
    "        elif temp[1] == '7':\n",
    "            score = round(float(temp[0]) * 5 / 7)\n",
    "            genrat.append(score)\n",
    "        elif temp[1] == '8':\n",
    "            score = round(float(temp[0]) * 5 / 8)\n",
    "            genrat.append(score)\n",
    "        elif temp[1] == '9':\n",
    "            score = round(float(temp[0]) * 5 / 9)\n",
    "            genrat.append(score)\n",
    "    elif len(temp) == 1:\n",
    "        if temp == 'A-' or 'A' or 'A+':\n",
    "            score = 5\n",
    "            genrat.append(score)\n",
    "        elif temp == 'B-' or 'B' or 'B+':\n",
    "            score = 4\n",
    "            genrat.append(score)\n",
    "        elif temp == 'C-' or 'C' or 'C+':\n",
    "            score = 3\n",
    "            genrat.append(score)\n",
    "        elif temp == 'D-' or 'D' or 'D+':\n",
    "            score = 2\n",
    "            genrat.append(score)\n",
    "        elif temp == 'F-' or 'F' or 'F+':\n",
    "            score = 1\n",
    "            genrat.append(score)\n",
    "        else :\n",
    "            score = temp\n",
    "            genrat.append(score)\n",
    "        \n",
    "           \n",
    "    \n",
    "    "
   ]
  },
  {
   "cell_type": "code",
   "execution_count": 116,
   "metadata": {},
   "outputs": [],
   "source": [
    "newDf['Standard_rating'] = genrat\n",
    "#newDf = newDf[:2000]"
   ]
  },
  {
   "cell_type": "code",
   "execution_count": 117,
   "metadata": {},
   "outputs": [
    {
     "data": {
      "text/plain": [
       "'# Preprocessing of Data\\n\\nimport spacy\\nimport numpy as np\\n#from spacy.lang.en.stop_words import STOP_WORDS\\n#nlp = en_core_web_sm.load()\\nnlp = spacy.load(\"en_core_web_sm\",disable=[\"tagger\", \"parser\"])\\ndef preprocess(text):\\n    # TODO: Replace the next line with your own code.\\n    doc = nlp(text)\\n    token_list = []\\n    for token in doc:\\n        if token.is_stop == False and token.lemma_.isalpha() and len(token) > 3:\\n            token_list.append(token.lemma_)\\n    return(token_list)'"
      ]
     },
     "execution_count": 117,
     "metadata": {},
     "output_type": "execute_result"
    }
   ],
   "source": [
    "'''# Preprocessing of Data\n",
    "\n",
    "import spacy\n",
    "import numpy as np\n",
    "#from spacy.lang.en.stop_words import STOP_WORDS\n",
    "#nlp = en_core_web_sm.load()\n",
    "nlp = spacy.load(\"en_core_web_sm\",disable=[\"tagger\", \"parser\"])\n",
    "def preprocess(text):\n",
    "    # TODO: Replace the next line with your own code.\n",
    "    doc = nlp(text)\n",
    "    token_list = []\n",
    "    for token in doc:\n",
    "        if token.is_stop == False and token.lemma_.isalpha() and len(token) > 3:\n",
    "            token_list.append(token.lemma_)\n",
    "    return(token_list)'''"
   ]
  },
  {
   "cell_type": "code",
   "execution_count": 118,
   "metadata": {},
   "outputs": [
    {
     "data": {
      "text/plain": [
       "'newDf[\\'PreProcessedReview\\'] = None\\nfor i in range(len(newDf)):\\n    newDf[\\'PreProcessedReview\\'][i] = \" \".join(preprocess(newDf[\\'review_content\\'][i]))'"
      ]
     },
     "execution_count": 118,
     "metadata": {},
     "output_type": "execute_result"
    }
   ],
   "source": [
    "'''newDf['PreProcessedReview'] = None\n",
    "for i in range(len(newDf)):\n",
    "    newDf['PreProcessedReview'][i] = \" \".join(preprocess(newDf['review_content'][i]))'''"
   ]
  },
  {
   "cell_type": "code",
   "execution_count": 119,
   "metadata": {},
   "outputs": [
    {
     "data": {
      "text/html": [
       "<div>\n",
       "<style scoped>\n",
       "    .dataframe tbody tr th:only-of-type {\n",
       "        vertical-align: middle;\n",
       "    }\n",
       "\n",
       "    .dataframe tbody tr th {\n",
       "        vertical-align: top;\n",
       "    }\n",
       "\n",
       "    .dataframe thead th {\n",
       "        text-align: right;\n",
       "    }\n",
       "</style>\n",
       "<table border=\"1\" class=\"dataframe\">\n",
       "  <thead>\n",
       "    <tr style=\"text-align: right;\">\n",
       "      <th></th>\n",
       "      <th>rotten_tomatoes_link</th>\n",
       "      <th>movie_title</th>\n",
       "      <th>critics_consensus</th>\n",
       "      <th>review_score</th>\n",
       "      <th>review_content</th>\n",
       "      <th>Standard_rating</th>\n",
       "    </tr>\n",
       "  </thead>\n",
       "  <tbody>\n",
       "    <tr>\n",
       "      <th>0</th>\n",
       "      <td>m/0814255</td>\n",
       "      <td>Percy Jackson &amp; the Olympians: The Lightning T...</td>\n",
       "      <td>Though it may seem like just another Harry Pot...</td>\n",
       "      <td>3.5/5</td>\n",
       "      <td>Whether audiences will get behind The Lightnin...</td>\n",
       "      <td>4</td>\n",
       "    </tr>\n",
       "    <tr>\n",
       "      <th>1</th>\n",
       "      <td>m/0878835</td>\n",
       "      <td>Please Give</td>\n",
       "      <td>Nicole Holofcener's newest might seem slight i...</td>\n",
       "      <td>3/4</td>\n",
       "      <td>Holofcener always gives us more to chew on tha...</td>\n",
       "      <td>4</td>\n",
       "    </tr>\n",
       "    <tr>\n",
       "      <th>2</th>\n",
       "      <td>m/10</td>\n",
       "      <td>10</td>\n",
       "      <td>Blake Edwards' bawdy comedy may not score a pe...</td>\n",
       "      <td>4/5</td>\n",
       "      <td>Obvious but entertaining portrayal of midlife ...</td>\n",
       "      <td>4</td>\n",
       "    </tr>\n",
       "    <tr>\n",
       "      <th>3</th>\n",
       "      <td>m/1000013-12_angry_men</td>\n",
       "      <td>12 Angry Men (Twelve Angry Men)</td>\n",
       "      <td>Sidney Lumet's feature debut is a superbly wri...</td>\n",
       "      <td>4/4</td>\n",
       "      <td>In a time of bloated when special effects have...</td>\n",
       "      <td>5</td>\n",
       "    </tr>\n",
       "    <tr>\n",
       "      <th>4</th>\n",
       "      <td>m/1000079-20000_leagues_under_the_sea</td>\n",
       "      <td>20,000 Leagues Under The Sea</td>\n",
       "      <td>One of Disney's finest live-action adventures,...</td>\n",
       "      <td>7/10</td>\n",
       "      <td>[The] embodiment of Disney at his best -- fami...</td>\n",
       "      <td>4</td>\n",
       "    </tr>\n",
       "  </tbody>\n",
       "</table>\n",
       "</div>"
      ],
      "text/plain": [
       "                    rotten_tomatoes_link  \\\n",
       "0                              m/0814255   \n",
       "1                              m/0878835   \n",
       "2                                   m/10   \n",
       "3                 m/1000013-12_angry_men   \n",
       "4  m/1000079-20000_leagues_under_the_sea   \n",
       "\n",
       "                                         movie_title  \\\n",
       "0  Percy Jackson & the Olympians: The Lightning T...   \n",
       "1                                        Please Give   \n",
       "2                                                 10   \n",
       "3                    12 Angry Men (Twelve Angry Men)   \n",
       "4                       20,000 Leagues Under The Sea   \n",
       "\n",
       "                                   critics_consensus review_score  \\\n",
       "0  Though it may seem like just another Harry Pot...        3.5/5   \n",
       "1  Nicole Holofcener's newest might seem slight i...          3/4   \n",
       "2  Blake Edwards' bawdy comedy may not score a pe...          4/5   \n",
       "3  Sidney Lumet's feature debut is a superbly wri...          4/4   \n",
       "4  One of Disney's finest live-action adventures,...         7/10   \n",
       "\n",
       "                                      review_content  Standard_rating  \n",
       "0  Whether audiences will get behind The Lightnin...                4  \n",
       "1  Holofcener always gives us more to chew on tha...                4  \n",
       "2  Obvious but entertaining portrayal of midlife ...                4  \n",
       "3  In a time of bloated when special effects have...                5  \n",
       "4  [The] embodiment of Disney at his best -- fami...                4  "
      ]
     },
     "execution_count": 119,
     "metadata": {},
     "output_type": "execute_result"
    }
   ],
   "source": [
    "# Balancing Dataset by removing the Movies which has rating 0 and 1 \n",
    "# since the number of movies available for each of the rating is very less\n",
    "newDf = newDf[newDf.Standard_rating != 0]\n",
    "newDf = newDf[newDf.Standard_rating != 1]\n",
    "newDf.head()"
   ]
  },
  {
   "cell_type": "code",
   "execution_count": 120,
   "metadata": {},
   "outputs": [],
   "source": [
    "# Balancing the Dataset such that there are equal(almost equal) number of movies for each rating\n",
    "g = newDf.groupby('Standard_rating')\n",
    "bal_data = g.apply(lambda x: x.sample(g.size().min()).reset_index(drop=True))"
   ]
  },
  {
   "cell_type": "code",
   "execution_count": 121,
   "metadata": {},
   "outputs": [],
   "source": [
    "def std_rating(rating):\n",
    "    rating = int(rating)\n",
    "    if rating <= 3:\n",
    "        return 0\n",
    "    else: \n",
    "        return 1\n",
    "\n",
    "# Reassigning the ratings of movies <=3 to 0 and 4-5 to 1(Multilabel to Binary Label) because for BERT outputs softmax probability for each rating\n",
    "# and in order to pick the maximum probablity index.\n",
    "\n",
    "bal_data['Standard_rating'] = bal_data.Standard_rating.apply(std_rating)"
   ]
  },
  {
   "cell_type": "code",
   "execution_count": null,
   "metadata": {},
   "outputs": [],
   "source": []
  },
  {
   "cell_type": "code",
   "execution_count": 122,
   "metadata": {},
   "outputs": [],
   "source": [
    "#reviews = bal_data.PreProcessedReview.values\n",
    "reviews = bal_data.review_content.values\n",
    "labels = bal_data.Standard_rating.values"
   ]
  },
  {
   "cell_type": "code",
   "execution_count": 123,
   "metadata": {},
   "outputs": [],
   "source": [
    "# train-test split\n",
    "from sklearn.model_selection import train_test_split\n",
    "train_sentences, validation_sentences, train_labels, validation_labels = train_test_split(reviews, labels, \n",
    "                                                                                          test_size=0.2, \n",
    "                                                                                          stratify=labels)"
   ]
  },
  {
   "cell_type": "code",
   "execution_count": 29,
   "metadata": {},
   "outputs": [
    {
     "data": {
      "text/plain": [
       "GridSearchCV(estimator=Pipeline(steps=[('countvectorizer', CountVectorizer()),\n",
       "                                       ('LR', LogisticRegression())]),\n",
       "             param_grid={'LR__multi_class': ['multinomial'],\n",
       "                         'LR__penalty': ['l1', 'l2', 'elasticnet'],\n",
       "                         'LR__solver': ['newton-cg', 'lbfgs', 'liblinear',\n",
       "                                        'saga'],\n",
       "                         'countvectorizer__binary': [True, False],\n",
       "                         'countvectorizer__ngram_range': [(1, 2), (2, 2)]})"
      ]
     },
     "execution_count": 29,
     "metadata": {},
     "output_type": "execute_result"
    }
   ],
   "source": [
    "from sklearn.feature_extraction.text import CountVectorizer\n",
    "from sklearn.linear_model import LogisticRegression\n",
    "from sklearn.pipeline import Pipeline\n",
    "from sklearn.metrics import classification_report\n",
    "from sklearn.model_selection import GridSearchCV\n",
    "import warnings\n",
    "warnings.filterwarnings('ignore')\n",
    "\n",
    "vectorizer = CountVectorizer()\n",
    "pipe_LR = Pipeline([('countvectorizer', vectorizer),('LR',LogisticRegression())])\n",
    "parameters = dict(countvectorizer__binary = [True,False],\n",
    "    countvectorizer__ngram_range=[(1, 2),(2,2)],\n",
    "                 LR__penalty = ['l1', 'l2', 'elasticnet'],\n",
    "                 LR__solver = ['newton-cg','lbfgs','liblinear','saga'],\n",
    "                 LR__multi_class = ['multinomial'])\n",
    "clf = GridSearchCV(pipe_LR, parameters)\n",
    "clf.fit(train_sentences, train_labels)"
   ]
  },
  {
   "cell_type": "code",
   "execution_count": 30,
   "metadata": {},
   "outputs": [
    {
     "name": "stdout",
     "output_type": "stream",
     "text": [
      "The best model has below paramaters \n",
      " {'LR__multi_class': 'multinomial', 'LR__penalty': 'l2', 'LR__solver': 'saga', 'countvectorizer__binary': True, 'countvectorizer__ngram_range': (1, 2)}\n"
     ]
    }
   ],
   "source": [
    "print(\"The best model has below paramaters \\n\",clf.best_params_)"
   ]
  },
  {
   "cell_type": "code",
   "execution_count": 126,
   "metadata": {},
   "outputs": [
    {
     "name": "stdout",
     "output_type": "stream",
     "text": [
      "              precision    recall  f1-score   support\n",
      "\n",
      "           0       0.65      0.67      0.66      1226\n",
      "           1       0.66      0.64      0.65      1225\n",
      "\n",
      "    accuracy                           0.66      2451\n",
      "   macro avg       0.66      0.66      0.66      2451\n",
      "weighted avg       0.66      0.66      0.66      2451\n",
      "\n"
     ]
    }
   ],
   "source": [
    "vectorizer = CountVectorizer()\n",
    "pipe_LR = Pipeline([('countvectorizer', vectorizer),('LR',LogisticRegression())])\n",
    "tuned_parameters = dict(countvectorizer__binary = [True],\n",
    "    countvectorizer__ngram_range=[ (1, 2)],\n",
    "                  LR__max_iter = [1000],\n",
    "                 LR__penalty = ['l2'],\n",
    "                 LR__solver = ['saga'],\n",
    "                 LR__multi_class = ['multinomial'])\n",
    "clf = GridSearchCV(pipe_LR, tuned_parameters)\n",
    "clf.fit(train_sentences, train_labels)\n",
    "pred_LR = clf.predict(validation_sentences)\n",
    "print(classification_report(validation_labels, pred_LR))"
   ]
  },
  {
   "cell_type": "code",
   "execution_count": 32,
   "metadata": {},
   "outputs": [
    {
     "name": "stdout",
     "output_type": "stream",
     "text": [
      "The best model has below paramaters \n",
      " {'SVC__gamma': 'auto', 'SVC__kernel': 'linear', 'countvectorizer__binary': False, 'countvectorizer__ngram_range': (1, 2)}\n"
     ]
    }
   ],
   "source": [
    "from sklearn.svm import SVC\n",
    "pipe_SVC = Pipeline([('countvectorizer', vectorizer),('SVC',SVC())])\n",
    "parameters = dict(countvectorizer__binary = [True,False],\n",
    "    countvectorizer__ngram_range=[(1, 1), (1, 2),(2,2)],\n",
    "                  SVC__kernel = ['linear', 'poly', 'rbf', 'sigmoid', 'precomputed'],\n",
    "                  SVC__gamma = ['auto','scale']\n",
    "                 )\n",
    "clf = GridSearchCV(pipe_SVC, parameters)\n",
    "clf.fit(train_sentences, train_labels)\n",
    "print(\"The best model has below paramaters \\n\",clf.best_params_)"
   ]
  },
  {
   "cell_type": "code",
   "execution_count": 128,
   "metadata": {},
   "outputs": [
    {
     "name": "stdout",
     "output_type": "stream",
     "text": [
      "              precision    recall  f1-score   support\n",
      "\n",
      "           0       0.64      0.65      0.64      1226\n",
      "           1       0.64      0.63      0.64      1225\n",
      "\n",
      "    accuracy                           0.64      2451\n",
      "   macro avg       0.64      0.64      0.64      2451\n",
      "weighted avg       0.64      0.64      0.64      2451\n",
      "\n"
     ]
    }
   ],
   "source": [
    "pipe_SVC = Pipeline([('countvectorizer', vectorizer),('SVC',SVC())])\n",
    "tuned_parameters = dict(countvectorizer__binary = [False],\n",
    "    countvectorizer__ngram_range=[(1, 2)],\n",
    "                  SVC__kernel = [ 'linear'],\n",
    "                 SVC__gamma = ['auto']\n",
    "                 )\n",
    "clf = GridSearchCV(pipe_SVC, tuned_parameters)\n",
    "clf.fit(train_sentences, train_labels)\n",
    "pred_SVC = clf.predict(validation_sentences)\n",
    "print(classification_report(validation_labels, pred_SVC))"
   ]
  },
  {
   "cell_type": "code",
   "execution_count": 129,
   "metadata": {},
   "outputs": [
    {
     "data": {
      "text/plain": [
       "[<matplotlib.lines.Line2D at 0x7f4110f392d0>]"
      ]
     },
     "execution_count": 129,
     "metadata": {},
     "output_type": "execute_result"
    },
    {
     "data": {
      "image/png": "[encoded data removed]",
      "text/plain": [
       "<Figure size 432x288 with 1 Axes>"
      ]
     },
     "metadata": {
      "needs_background": "light"
     },
     "output_type": "display_data"
    }
   ],
   "source": [
    "# Plot of length of reviews\n",
    "\n",
    "senlen = [len(train_sentences[i]) for i in range(len(train_sentences))]\n",
    "\n",
    "import matplotlib.pyplot as plt\n",
    "\n",
    "plt.plot(np.arange(len(senlen)),senlen)"
   ]
  },
  {
   "cell_type": "code",
   "execution_count": 130,
   "metadata": {},
   "outputs": [],
   "source": [
    "import sys\n",
    "import numpy as np\n",
    "import random as rn\n",
    "import pandas as pd\n",
    "import torch\n",
    "#from pytorch_pretrained_bert import BertModel\n",
    "from torch import nn\n",
    "#from pytorch_pretrained_bert import BertTokenizer\n",
    "from keras.preprocessing.sequence import pad_sequences\n",
    "from torch.utils.data import TensorDataset, DataLoader, RandomSampler, SequentialSampler\n",
    "from torch.optim import Adam\n",
    "from torch.nn.utils import clip_grad_norm_\n",
    "from IPython.display import clear_output\n",
    "import matplotlib.pyplot as plt\n",
    "%matplotlib inline\n"
   ]
  },
  {
   "cell_type": "code",
   "execution_count": 131,
   "metadata": {},
   "outputs": [
    {
     "name": "stdout",
     "output_type": "stream",
     "text": [
      "Requirement already satisfied: transformers==3 in /opt/conda/lib/python3.7/site-packages (3.0.0)\n",
      "Requirement already satisfied: numpy in /opt/conda/lib/python3.7/site-packages (from transformers==3) (1.19.5)\n",
      "Requirement already satisfied: filelock in /opt/conda/lib/python3.7/site-packages (from transformers==3) (3.0.12)\n",
      "Requirement already satisfied: sacremoses in /opt/conda/lib/python3.7/site-packages (from transformers==3) (0.0.43)\n",
      "Requirement already satisfied: requests in /opt/conda/lib/python3.7/site-packages (from transformers==3) (2.25.1)\n",
      "Requirement already satisfied: sentencepiece in /opt/conda/lib/python3.7/site-packages (from transformers==3) (0.1.95)\n",
      "Requirement already satisfied: tqdm>=4.27 in /opt/conda/lib/python3.7/site-packages (from transformers==3) (4.55.1)\n",
      "Requirement already satisfied: regex!=2019.12.17 in /opt/conda/lib/python3.7/site-packages (from transformers==3) (2020.11.13)\n",
      "Requirement already satisfied: packaging in /opt/conda/lib/python3.7/site-packages (from transformers==3) (20.8)\n",
      "Requirement already satisfied: tokenizers==0.8.0-rc4 in /opt/conda/lib/python3.7/site-packages (from transformers==3) (0.8.0rc4)\n",
      "Requirement already satisfied: pyparsing>=2.0.2 in /opt/conda/lib/python3.7/site-packages (from packaging->transformers==3) (2.4.7)\n",
      "Requirement already satisfied: idna<3,>=2.5 in /opt/conda/lib/python3.7/site-packages (from requests->transformers==3) (2.10)\n",
      "Requirement already satisfied: chardet<5,>=3.0.2 in /opt/conda/lib/python3.7/site-packages (from requests->transformers==3) (3.0.4)\n",
      "Requirement already satisfied: urllib3<1.27,>=1.21.1 in /opt/conda/lib/python3.7/site-packages (from requests->transformers==3) (1.26.2)\n",
      "Requirement already satisfied: certifi>=2017.4.17 in /opt/conda/lib/python3.7/site-packages (from requests->transformers==3) (2020.12.5)\n",
      "Requirement already satisfied: click in /opt/conda/lib/python3.7/site-packages (from sacremoses->transformers==3) (7.1.2)\n",
      "Requirement already satisfied: six in /opt/conda/lib/python3.7/site-packages (from sacremoses->transformers==3) (1.15.0)\n",
      "Requirement already satisfied: joblib in /opt/conda/lib/python3.7/site-packages (from sacremoses->transformers==3) (1.0.0)\n"
     ]
    }
   ],
   "source": [
    "! pip install transformers==3"
   ]
  },
  {
   "cell_type": "code",
   "execution_count": 132,
   "metadata": {},
   "outputs": [],
   "source": [
    "from transformers import BertTokenizer, BertModel, BertConfig\n",
    "tokenizer = BertTokenizer.from_pretrained('bert-base-uncased')"
   ]
  },
  {
   "cell_type": "code",
   "execution_count": 133,
   "metadata": {},
   "outputs": [],
   "source": [
    "# Tokenizing inputs and adding special tokens\n",
    "\n",
    "def input_id(input_review):\n",
    "    input_ids = []\n",
    "    MAX_LEN = 256\n",
    "    for r in input_review:\n",
    "        encoded_sent = tokenizer.encode(r,add_special_tokens = True) # Special tokens '[CLS]' and '[SEP]'\n",
    "        input_ids.append(encoded_sent)\n",
    "    return input_ids\n",
    "train_id = input_id(train_sentences)\n",
    "val_id = input_id(validation_sentences)"
   ]
  },
  {
   "cell_type": "code",
   "execution_count": 134,
   "metadata": {},
   "outputs": [],
   "source": [
    "# Padding the Tokenized IDs\n",
    "from keras.preprocessing.sequence import pad_sequences\n",
    "padded_train_id = pad_sequences(train_id, maxlen=256 , truncating=\"post\", padding=\"post\")\n",
    "padded_val_id = pad_sequences(val_id, maxlen=256 , truncating=\"post\", padding=\"post\")\n"
   ]
  },
  {
   "cell_type": "code",
   "execution_count": 135,
   "metadata": {},
   "outputs": [],
   "source": [
    "# Masking the padded ID's\n",
    "\n",
    "def masking(pid):\n",
    "    attention_masks = []\n",
    "\n",
    "    for r in pid:\n",
    "    \n",
    "        # Generating attention mask for sentences.\n",
    "        #   - when there is 0 present as token id we are going to set mask as 0.\n",
    "        #   - we are going to set mask 1 for all non-zero positive input id.\n",
    "        att_mask = [int(token_id > 0) for token_id in r]\n",
    "        attention_masks.append(att_mask)\n",
    "\n",
    "    return attention_masks\n",
    "\n",
    "train_mask = masking(padded_train_id)\n",
    "val_mask = masking(padded_val_id)"
   ]
  },
  {
   "cell_type": "code",
   "execution_count": 136,
   "metadata": {},
   "outputs": [],
   "source": [
    "#changing the numpy arrays into tensors for working on GPU.\n",
    "import torch\n",
    "\n",
    "tr_inputs = torch.tensor(padded_train_id)\n",
    "val_inputs = torch.tensor(padded_val_id)\n",
    "\n",
    "tr_labels = torch.tensor(train_labels.reshape(-1, 1)).float()\n",
    "val_labels = torch.tensor(validation_labels.reshape(-1, 1)).float()\n",
    "\n",
    "tr_masks = torch.tensor(train_mask)\n",
    "val_masks = torch.tensor(val_mask)\n",
    "\n",
    "from torch.utils.data import TensorDataset, DataLoader, RandomSampler, SequentialSampler\n",
    "\n",
    "# Deciding the batch size for training.\n",
    "\n",
    "batch_size = 8\n",
    "\n",
    "#DataLoader for our training set.\n",
    "train_data = TensorDataset(tr_inputs, tr_masks, tr_labels)\n",
    "train_sampler = RandomSampler(train_data)\n",
    "train_dataloader = DataLoader(train_data, sampler=train_sampler, batch_size=batch_size)\n",
    "\n",
    "# DataLoader for our validation(test) set.\n",
    "validation_data = TensorDataset(val_inputs, val_masks, val_labels)\n",
    "validation_sampler = SequentialSampler(validation_data)\n",
    "validation_dataloader = DataLoader(validation_data, sampler=validation_sampler, batch_size=batch_size)"
   ]
  },
  {
   "cell_type": "code",
   "execution_count": 137,
   "metadata": {},
   "outputs": [],
   "source": [
    "# Building custom BERT model with additional Classification layer\n",
    "\n",
    "class BertClassifier(nn.Module):\n",
    "    \n",
    "    def __init__(self, n_classes = 2):\n",
    "        super(BertClassifier, self).__init__()\n",
    "        self.bert = BertModel.from_pretrained('bert-base-uncased')\n",
    "        self.drop = nn.Dropout(p=0.3)\n",
    "        self.out = nn.Linear(768, n_classes)\n",
    "        self.softmax = nn.Softmax(dim=1)\n",
    "  \n",
    "    def forward(self, input_ids, attention_mask):\n",
    "        \n",
    "        _, pooled_output = self.bert(\n",
    "        input_ids=input_ids,\n",
    "        attention_mask=attention_mask\n",
    "    )\n",
    "        output = self.drop(pooled_output)\n",
    "        #print(torch.max(output,dim = 1))\n",
    "        return self.out(output)"
   ]
  },
  {
   "cell_type": "code",
   "execution_count": 138,
   "metadata": {},
   "outputs": [],
   "source": [
    "# Checking for GPU processors\n",
    "device = torch.device(\"cuda\" if torch.cuda.is_available() else \"cpu\")\n",
    "device\n",
    "\n",
    "torch.cuda.empty_cache()     # Clearing Cache space for fresh Model run\n"
   ]
  },
  {
   "cell_type": "code",
   "execution_count": 139,
   "metadata": {},
   "outputs": [],
   "source": [
    "# Assigning model to GPU\n",
    "\n",
    "model = BertClassifier()\n",
    "model = model.to(device)"
   ]
  },
  {
   "cell_type": "code",
   "execution_count": 140,
   "metadata": {},
   "outputs": [],
   "source": [
    "\n",
    "EPOCHS = 5\n",
    "\n",
    "optimizer = Adam(model.parameters(), lr=3e-6)\n",
    "total_steps = len(train_dataloader) * EPOCHS\n",
    "loss_fn = nn.CrossEntropyLoss().to(device)"
   ]
  },
  {
   "cell_type": "code",
   "execution_count": 141,
   "metadata": {},
   "outputs": [
    {
     "name": "stdout",
     "output_type": "stream",
     "text": [
      "Epoch:  5\n",
      "\r",
      "1225/1225.125 loss: 0.4035313539176596 \n"
     ]
    }
   ],
   "source": [
    "# Training the Model\n",
    "\n",
    "for epoch_num in range(EPOCHS):\n",
    "    model.train()\n",
    "    train_loss = 0\n",
    "    for step_num, batch_data in enumerate(train_dataloader):\n",
    "        token_ids, masks, targets = tuple(t.to(device).long() for t in batch_data)\n",
    "        #print(type(masks))\n",
    "        outputs = model(\n",
    "      token_ids,\n",
    "      masks\n",
    "    )\n",
    "        #print(len(targets))\n",
    "        targets = targets.reshape((1,len(targets)))\n",
    "\n",
    "        _, preds = torch.max(outputs, dim=1)\n",
    "        loss = loss_fn(outputs, targets[0])\n",
    "\n",
    "        train_loss += loss.item()\n",
    "        \n",
    "        \n",
    "        model.zero_grad()\n",
    "        loss.backward()\n",
    "        \n",
    "\n",
    "        clip_grad_norm_(parameters=model.parameters(), max_norm=1.0)\n",
    "        optimizer.step()\n",
    "        \n",
    "        clear_output(wait=True)\n",
    "        print('Epoch: ', epoch_num + 1)\n",
    "        print(\"\\r\" + \"{0}/{1} loss: {2} \".format(step_num, len(train_data) / batch_size, train_loss / (step_num + 1)))"
   ]
  },
  {
   "cell_type": "code",
   "execution_count": 142,
   "metadata": {},
   "outputs": [],
   "source": [
    "# Evaluating and Predicting the Movie Ratings for Validation data\n",
    "\n",
    "model.eval()\n",
    "bert_predicted = []\n",
    "with torch.no_grad():\n",
    "    for step_num, batch_data in enumerate(validation_dataloader):\n",
    "        token_ids, masks, targets = tuple(t.to(device).long() for t in batch_data)\n",
    "\n",
    "        outputs = model(\n",
    "      token_ids,\n",
    "      masks\n",
    "    )\n",
    "        \n",
    "        targets = targets.reshape((1,len(targets)))\n",
    "\n",
    "        _, preds = torch.max(outputs, dim=1)\n",
    "        bert_predicted.append(preds)\n",
    "    \n",
    "pred = []\n",
    "for i in range(len(bert_predicted)):\n",
    "    for j in range(len(bert_predicted[i])):\n",
    "        pred.append(bert_predicted[i][j])\n",
    "    \n",
    "pred = torch.tensor(pred).numpy()       "
   ]
  },
  {
   "cell_type": "code",
   "execution_count": 143,
   "metadata": {},
   "outputs": [
    {
     "name": "stdout",
     "output_type": "stream",
     "text": [
      "Classification Report for BERT BASE UNCASED model\n",
      "\n",
      "               precision    recall  f1-score   support\n",
      "\n",
      "         0.0       0.71      0.65      0.68      1226\n",
      "         1.0       0.68      0.74      0.71      1225\n",
      "\n",
      "    accuracy                           0.69      2451\n",
      "   macro avg       0.69      0.69      0.69      2451\n",
      "weighted avg       0.69      0.69      0.69      2451\n",
      "\n"
     ]
    }
   ],
   "source": [
    "print(\"Classification Report for BERT BASE UNCASED model\\n\\n\",classification_report(val_labels, pred))"
   ]
  }
 ],
 "metadata": {
  "kernelspec": {
   "display_name": "Python 3",
   "language": "python",
   "name": "python3"
  },
  "language_info": {
   "codemirror_mode": {
    "name": "ipython",
    "version": 3
   },
   "file_extension": ".py",
   "mimetype": "text/x-python",
   "name": "python",
   "nbconvert_exporter": "python",
   "pygments_lexer": "ipython3",
   "version": "3.7.6"
  }
 },
 "nbformat": 4,
 "nbformat_minor": 4
}
